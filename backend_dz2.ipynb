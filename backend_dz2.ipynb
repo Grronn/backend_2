{
  "nbformat": 4,
  "nbformat_minor": 0,
  "metadata": {
    "colab": {
      "provenance": []
    },
    "kernelspec": {
      "name": "python3",
      "display_name": "Python 3"
    },
    "language_info": {
      "name": "python"
    }
  },
  "cells": [
    {
      "cell_type": "markdown",
      "source": [
        "Игра «Жизнь»"
      ],
      "metadata": {
        "id": "vYomcXZcONjp"
      }
    },
    {
      "cell_type": "code",
      "source": [
        "def read_file(fileName):\n",
        "    with open(fileName, 'r') as file:\n",
        "        lines = file.readlines()\n",
        "    generation = int(lines[0])\n",
        "    table = []\n",
        "    for line in lines[1:]:\n",
        "        row = []\n",
        "        for number in line.split():\n",
        "            row.append(int(number))\n",
        "        table.append(row)\n",
        "    return generation,  table\n",
        "\n",
        "def write_file(fileName, table):\n",
        "    with open(fileName, 'w') as file:\n",
        "        for i, line in enumerate(table):\n",
        "            numbersInLine = []\n",
        "            for number in line:\n",
        "                numbersInLine.append(str(number))\n",
        "            file.write(' '.join(numbersInLine))\n",
        "            if i != len(table) - 1:\n",
        "                file.write('\\n')\n",
        "\n",
        "def calculate_count_of_neighbors(table, x, y):\n",
        "    size=len(table)\n",
        "    countNeighbors = 0\n",
        "    for i in range(-1, 2):#смотрим соседей вокруг ячейки\n",
        "        for j in range(-1, 2):\n",
        "            if (i == 0 and j == 0):\n",
        "                continue\n",
        "            countNeighbors+=table[(x+i)%size][(y+j)%size]#если вылезает за границы, то берем с противоположного края\n",
        "    return countNeighbors\n",
        "\n",
        "\n",
        "generation, table = read_file('input.txt')\n",
        "\n",
        "for i in range(generation-1):#количество шагов(мы уже на первом поколении)\n",
        "    size=len(table)\n",
        "    next_table = []\n",
        "    for i in range(size):#для начала нулями заполним\n",
        "        row = []\n",
        "        for j in range(size):\n",
        "            row.append(0)\n",
        "        next_table.append(row)\n",
        "\n",
        "    for i in range(size):#дальше уже в зависимости от кол-ва живых соседей по этим координатам у оригинальной таблицы, либо оставим 0 либо сделаем 1 в новой таблице\n",
        "        for j in range(size):\n",
        "            neighborsCount = calculate_count_of_neighbors(table, i, j)#считаем кол-во соседей у ячейки в table\n",
        "            if table[i][j] == 0 and neighborsCount == 3:\n",
        "                next_table[i][j] = 1\n",
        "            elif table[i][j] == 1 and (neighborsCount == 2 or neighborsCount == 3):\n",
        "                next_table[i][j] = 1\n",
        "            else:\n",
        "                next_table[i][j] = 0\n",
        "    table=next_table\n",
        "\n",
        "write_file('output.txt', table)"
      ],
      "metadata": {
        "id": "7vAGd7QZ5s8J"
      },
      "execution_count": 189,
      "outputs": []
    }
  ]
}